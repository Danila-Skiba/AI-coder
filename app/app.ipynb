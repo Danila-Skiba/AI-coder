{
 "cells": [
  {
   "cell_type": "code",
   "execution_count": null,
   "id": "e74e6991",
   "metadata": {},
   "outputs": [],
   "source": [
    "from langchain.chains.combine_documents import create_stuff_documents_chain\n",
    "from langchain.chat_models.gigachat import GigaChat\n",
    "from langchain.chains import create_retrieval_chain\n",
    "from langchain_gigachat.chat_models import GigaChat\n",
    "from langchain_gigachat.embeddings.gigachat import GigaChatEmbeddings\n",
    "from pathlib import Path\n",
    "from vectorization.v_a_c import *"
   ]
  },
  {
   "cell_type": "code",
   "execution_count": null,
   "id": "4238097f",
   "metadata": {},
   "outputs": [],
   "source": [
    "API_KEY = \"YjllY2FhYjgtNGRlMC00MDA4LWIwZmYtNjdlNjY0ZmI5OTc4OmRkMjZhOWFjLThhNTctNGM3ZC1iZjFkLWQ3NGY1NmRjNTQzMQ==\"\n",
    "CODE_DIR = Path(\"..\\\\data\\\\code\")\n",
    "DOC_DIR = Path(\"..\\\\data\\\\documentation\")\n",
    "VECTOR_STORE_PATH = \"langchain_vector_store\""
   ]
  },
  {
   "cell_type": "code",
   "execution_count": null,
   "id": "987d8ca8",
   "metadata": {},
   "outputs": [],
   "source": [
    "embedding=GigaChatEmbeddings(\n",
    "        credentials=API_KEY,\n",
    "        scope=\"GIGACHAT_API_PERS\",\n",
    "        verify_ssl_certs=False,\n",
    ")"
   ]
  },
  {
   "cell_type": "code",
   "execution_count": null,
   "id": "072f5024",
   "metadata": {},
   "outputs": [],
   "source": [
    "embeddings = GigaChatEmbeddings(\n",
    "    credentials=API_KEY,\n",
    "    verify_ssl_certs=False\n",
    ")\n",
    "\n",
    "system = SmartCodeDocSystem(embeddings, chunk_size=600, chunk_overlap=100)\n"
   ]
  },
  {
   "cell_type": "code",
   "execution_count": null,
   "id": "2a53e796",
   "metadata": {},
   "outputs": [],
   "source": [
    "documents = system.load_and_process_files(CODE_DIR, DOC_DIR)\n",
    "\n",
    "system.create_vector_store(VECTOR_STORE_PATH)"
   ]
  },
  {
   "cell_type": "code",
   "execution_count": null,
   "id": "d04605c5",
   "metadata": {},
   "outputs": [],
   "source": [
    "system.load_vector_store(VECTOR_STORE_PATH)"
   ]
  },
  {
   "cell_type": "code",
   "execution_count": null,
   "id": "7dff123d",
   "metadata": {},
   "outputs": [],
   "source": [
    "llm = GigaChat(\n",
    "    credentials=API_KEY,\n",
    "    verify_ssl_certs=False,\n",
    ")\n",
    "\n",
    "smart_retriever = SmartRetriever(smart_system=system, k=3)\n",
    "\n",
    "prompt = create_smart_prompt()\n",
    "document_chain = create_stuff_documents_chain(llm=llm, prompt=prompt)\n",
    "retrieval_chain = create_retrieval_chain(smart_retriever, document_chain)"
   ]
  },
  {
   "cell_type": "code",
   "execution_count": null,
   "id": "2c8da407",
   "metadata": {},
   "outputs": [],
   "source": [
    "query = \"How to use FAISS vectorstore in LangChain?\"\n",
    "\n",
    "try:\n",
    "    # Получаем ответ\n",
    "    response = retrieval_chain.invoke({\"input\": query})\n",
    "    \n",
    "    # Выводим результат\n",
    "    print(\"ОТВЕТ:\")\n",
    "    print(response[\"answer\"])\n",
    "    \n",
    "    # Показываем информацию о поиске\n",
    "    search_result = system.smart_search(query, k=3)\n",
    "    print(f\"\\nИНФО О ПОИСКЕ:\")\n",
    "    print(f\"Тип поиска: {search_result.search_type}\")\n",
    "    print(f\"Найдено документов: {len(search_result.documents)}\")\n",
    "    \n",
    "    code_count = len([d for d in search_result.documents if d.metadata.get('type') == 'code'])\n",
    "    doc_count = len([d for d in search_result.documents if d.metadata.get('type') == 'doc'])\n",
    "    print(f\"Код: {code_count}, Документация: {doc_count}\")\n",
    "    \n",
    "except Exception as e:\n",
    "    print(f\"Ошибка: {e}\")"
   ]
  },
  {
   "cell_type": "code",
   "execution_count": null,
   "id": "f97dc21f",
   "metadata": {},
   "outputs": [],
   "source": [
    "query = \"How does similarity search work in FAISS?\"\n",
    "\n",
    "try:\n",
    "    # Получаем ответ\n",
    "    response = retrieval_chain.invoke({\"input\": query})\n",
    "    \n",
    "    # Выводим результат\n",
    "    print(\"ОТВЕТ:\")\n",
    "    print(response[\"answer\"])\n",
    "    \n",
    "    # Показываем информацию о поиске\n",
    "    search_result = system.smart_search(query, k=3)\n",
    "    print(f\"\\nИНФО О ПОИСКЕ:\")\n",
    "    print(f\"Тип поиска: {search_result.search_type}\")\n",
    "    print(f\"Найдено документов: {len(search_result.documents)}\")\n",
    "    \n",
    "    code_count = len([d for d in search_result.documents if d.metadata.get('type') == 'code'])\n",
    "    doc_count = len([d for d in search_result.documents if d.metadata.get('type') == 'doc'])\n",
    "    print(f\"Код: {code_count}, Документация: {doc_count}\")\n",
    "    \n",
    "except Exception as e:\n",
    "    print(f\"Ошибка: {e}\")"
   ]
  },
  {
   "cell_type": "code",
   "execution_count": null,
   "id": "7aa754b7",
   "metadata": {},
   "outputs": [],
   "source": [
    "query = \"What is a Document in LangChain and how to create it?\"\n",
    "\n",
    "try:\n",
    "    # Получаем ответ\n",
    "    response = retrieval_chain.invoke({\"input\": query})\n",
    "    \n",
    "    # Выводим результат\n",
    "    print(\"ОТВЕТ:\")\n",
    "    print(response[\"answer\"])\n",
    "    \n",
    "    # Показываем информацию о поиске\n",
    "    search_result = system.smart_search(query, k=3)\n",
    "    print(f\"\\nИНФО О ПОИСКЕ:\")\n",
    "    print(f\"Тип поиска: {search_result.search_type}\")\n",
    "    print(f\"Найдено документов: {len(search_result.documents)}\")\n",
    "    \n",
    "    code_count = len([d for d in search_result.documents if d.metadata.get('type') == 'code'])\n",
    "    doc_count = len([d for d in search_result.documents if d.metadata.get('type') == 'doc'])\n",
    "    print(f\"Код: {code_count}, Документация: {doc_count}\")\n",
    "    \n",
    "except Exception as e:\n",
    "    print(f\"Ошибка: {e}\")"
   ]
  }
 ],
 "metadata": {
  "kernelspec": {
   "display_name": "Python 3",
   "language": "python",
   "name": "python3"
  },
  "language_info": {
   "codemirror_mode": {
    "name": "ipython",
    "version": 3
   },
   "file_extension": ".py",
   "mimetype": "text/x-python",
   "name": "python",
   "nbconvert_exporter": "python",
   "pygments_lexer": "ipython3",
   "version": "3.12.4"
  }
 },
 "nbformat": 4,
 "nbformat_minor": 5
}
