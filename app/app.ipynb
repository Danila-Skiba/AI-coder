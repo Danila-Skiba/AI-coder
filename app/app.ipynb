{
 "cells": [
  {
   "cell_type": "code",
   "execution_count": 37,
   "id": "e74e6991",
   "metadata": {},
   "outputs": [],
   "source": [
    "from langchain.vectorstores.faiss import FAISS\n",
    "from langchain_core.documents import Document\n",
    "from langchain.text_splitter import RecursiveCharacterTextSplitter\n",
    "from langchain.chains.combine_documents import create_stuff_documents_chain\n",
    "from langchain_core.prompts import ChatPromptTemplate\n",
    "from langchain.chat_models.gigachat import GigaChat\n",
    "from langchain.chains import create_retrieval_chain\n",
    "from langchain_gigachat.chat_models import GigaChat\n",
    "from langchain_gigachat.embeddings.gigachat import GigaChatEmbeddings\n",
    "from pathlib import Path\n",
    "from vectorization.vectorization import *"
   ]
  },
  {
   "cell_type": "code",
   "execution_count": 38,
   "id": "4238097f",
   "metadata": {},
   "outputs": [],
   "source": [
    "API_KEY = \"YjllY2FhYjgtNGRlMC00MDA4LWIwZmYtNjdlNjY0ZmI5OTc4OmRkMjZhOWFjLThhNTctNGM3ZC1iZjFkLWQ3NGY1NmRjNTQzMQ==\""
   ]
  },
  {
   "cell_type": "code",
   "execution_count": 39,
   "id": "3a8742bc",
   "metadata": {},
   "outputs": [],
   "source": [
    "doc_files = list(Path(\"..\\\\data\\\\documentation\").rglob(\"*.md\"))[:3]\n",
    "code_files = list(Path(\"..\\\\data\\\\code\").rglob(\"*.py\"))[:3]\n",
    "\n",
    "doc_splitter = RecursiveCharacterTextSplitter(chunk_size=1000, chunk_overlap=200)\n",
    "code_splitter = RecursiveCharacterTextSplitter(separators=[\"\\nclass\", \"\\ndef\", \"\\n\"], chunk_size=500, chunk_overlap=100)\n",
    "\n",
    "doc_chunks = [doc_splitter.split_text(Path(file).read_text(encoding=\"utf-8\")) for file in doc_files]\n",
    "code_chunks = [code_splitter.split_text(Path(file).read_text(encoding=\"utf-8\")) for file in code_files]\n",
    "\n",
    "docs = [Document(page_content=chunk, metadata={\"source\": \"doc\"}) for file in doc_files for chunk in doc_splitter.split_text(Path(file).read_text(encoding=\"utf-8\"))]\n",
    "code = [Document(page_content=chunk, metadata={\"source\": \"code\"}) for file in code_files for chunk in code_splitter.split_text(Path(file).read_text(encoding=\"utf-8\"))]\n",
    "\n",
    "documents = docs + code"
   ]
  },
  {
   "cell_type": "code",
   "execution_count": 40,
   "id": "987d8ca8",
   "metadata": {},
   "outputs": [],
   "source": [
    "embedding=GigaChatEmbeddings(\n",
    "        credentials=API_KEY,\n",
    "        scope=\"GIGACHAT_API_PERS\",\n",
    "        verify_ssl_certs=False,\n",
    ")"
   ]
  },
  {
   "cell_type": "code",
   "execution_count": 41,
   "id": "1c48d4d0",
   "metadata": {},
   "outputs": [],
   "source": [
    "vector_store = FAISSVectorStore(embedding, vector_store_path=\"vector_store\")\n",
    "vector_store.create_vector_store(documents)"
   ]
  },
  {
   "cell_type": "code",
   "execution_count": 42,
   "id": "ca6542e7",
   "metadata": {},
   "outputs": [],
   "source": [
    "save_vector_store(vector_store)"
   ]
  },
  {
   "cell_type": "code",
   "execution_count": 43,
   "id": "53982e45",
   "metadata": {},
   "outputs": [],
   "source": [
    "loaded_vector_store = load_vector_store(\"vector_store\", embedding)"
   ]
  },
  {
   "cell_type": "code",
   "execution_count": 44,
   "id": "b3baff57",
   "metadata": {},
   "outputs": [],
   "source": [
    "retriever = get_retriever(loaded_vector_store)"
   ]
  },
  {
   "cell_type": "code",
   "execution_count": 45,
   "id": "3cca8fbd",
   "metadata": {},
   "outputs": [],
   "source": [
    "llm = GigaChat(\n",
    "    credentials=API_KEY,\n",
    "    verify_ssl_certs=False,\n",
    ")\n",
    "\n",
    "prompt = ChatPromptTemplate.from_template('''Ты — технический помощник, работающий с библиотекой LangChain. У тебя есть доступ к документации и к исходному коду библиотеки.\n",
    "\n",
    "Твоя задача — ответить на вопрос пользователя, используя и документацию, и код. Следуй этим правилам:\n",
    "\n",
    "---\n",
    "\n",
    "1. 📄 Если информация взята из документации, укажи, из какого именно документа она была получена. Пример:  \n",
    "   _\"Согласно документации (load_chain.md)...\"_\n",
    "\n",
    "2. 🧩 Если информация взята из исходного кода, укажи, из какого файла она была получена. Пример:  \n",
    "   _\"В коде (loader.py) реализована только цепочка summarize_chain...\"_\n",
    "\n",
    "3. ⚠️ Если документация и код противоречат друг другу, всё равно сформулируй полезный ответ, но обязательно предупреди об этом. Пример:  \n",
    "   _\"Документация (load_chain.md) утверждает, что поддерживаются 3 цепочки, однако в коде (loader.py) реализована только одна. Это потенциальное несоответствие.\"_\n",
    "\n",
    "4. ❓ Если ты не уверен, соответствует ли документация коду, также предупреди об этом. Пример:  \n",
    "   _\"Не удалось однозначно проверить, соответствует ли описание в документации (agent_overview.md) текущей реализации кода (agent/base.py). Будьте внимательны.\"_\n",
    "\n",
    "5. 💬 Избегай вымышленных деталей — все факты должны быть подтверждены фрагментами из кода или документации.\n",
    "\n",
    "---\n",
    "\n",
    "В конце ответа сделай краткое заключение:\n",
    "- Указан ли источник каждого утверждения?\n",
    "- Есть ли возможные противоречия?\n",
    "\n",
    "---\n",
    "\n",
    "Теперь ответь на вопрос:\n",
    "\"{context}\"'''\n",
    ")"
   ]
  },
  {
   "cell_type": "code",
   "execution_count": 46,
   "id": "00ec1b53",
   "metadata": {},
   "outputs": [],
   "source": [
    "document_chain = create_stuff_documents_chain(\n",
    "    llm=llm,\n",
    "    prompt=prompt\n",
    ")\n",
    "\n",
    "retrieval_chain = create_retrieval_chain(retriever, document_chain)"
   ]
  },
  {
   "cell_type": "code",
   "execution_count": 47,
   "id": "12f1c5c1",
   "metadata": {},
   "outputs": [
    {
     "data": {
      "text/plain": [
       "{'input': 'What is LangSmith?',\n",
       " 'context': [Document(id='355ee863-aa5a-494d-abbd-b574f8aebd18', metadata={'source': 'doc'}, page_content='important\\n\\nLangServe is designed to primarily deploy simple Runnables and work with well-known primitives in langchain-core.\\n\\nIf you need a deployment option for LangGraph, you should instead be looking at LangGraph Platform (beta) which will be better suited for deploying LangGraph applications.\\n\\nFor more information, see the [LangServe documentation](/docs/langserve/).\\n\\n## LangSmith[\\u200b](#langsmith \"Direct link to LangSmith\")\\n\\nA developer platform that lets you debug, test, evaluate, and monitor LLM applications.\\n\\nFor more information, see the [LangSmith documentation](https://docs.smith.langchain.com)'),\n",
       "  Document(id='215b578e-4f52-4b46-821b-e066c99722f2', metadata={'source': 'doc'}, page_content='## langgraph[\\u200b](#langgraph \"Direct link to langgraph\")\\n\\n`langgraph` is an extension of `langchain` aimed at building robust and stateful multi-actor applications with LLMs by modeling steps as edges and nodes in a graph.\\n\\nLangGraph exposes high level interfaces for creating common types of agents, as well as a low-level API for composing custom flows.\\n\\nFurther reading\\n\\n* See our LangGraph overview [here](https://langchain-ai.github.io/langgraph/concepts/high_level/#core-principles).\\n* See our LangGraph Academy Course [here](https://academy.langchain.com/courses/intro-to-langgraph).\\n\\n## langserve[\\u200b](#langserve \"Direct link to langserve\")\\n\\nA package to deploy LangChain chains as REST APIs. Makes it easy to get a production ready API up and running.\\n\\nimportant\\n\\nLangServe is designed to primarily deploy simple Runnables and work with well-known primitives in langchain-core.')],\n",
       " 'answer': 'Документация по **LangServe** действительно указывает, что это инструмент для развертывания простых цепочек **langchain** как REST API, предназначенных для работы с хорошо известными примитивами в ядре **langchain**. В документации упоминается, что для развертывания приложений **LangGraph** следует использовать **LangGraph Platform (beta)**, которая лучше подходит для этих целей. \\n\\nИсточники информации:\\n- Информация о том, что **LangServe** предназначен для развертывания простых Runnables и работы с известными примитивами, получена из документации по **LangServe** (`/docs/langserve/`), раздел \"Design Overview\".\\n- Информация о необходимости использования **LangGraph Platform (beta)** для развертывания **LangGraph** взята из раздела \"Getting Started\" в документации по **LangServe**.\\n\\nВозможные противоречия:\\nНесмотря на то, что документация **LangServe** рекомендует использовать **LangGraph Platform (beta)** для развертывания **LangGraph**, в документации по **LangGraph** не упоминается наличие конкретной платформы для развертывания. Возможно, эта информация устарела или не была полностью интегрирована в документацию.\\n\\nЗаключение:\\n- Все утверждения подкреплены ссылками на соответствующие документы.\\n- Возможны противоречия между документацией по **LangServe** и **LangGraph** касательно наличия и функциональности платформы для развертывания **LangGraph**.'}"
      ]
     },
     "execution_count": 47,
     "metadata": {},
     "output_type": "execute_result"
    }
   ],
   "source": [
    "q1 = 'What is LangSmith?'\n",
    "\n",
    "resp1 = retrieval_chain.invoke(\n",
    "    {'input': q1}\n",
    ")\n",
    "\n",
    "resp1"
   ]
  },
  {
   "cell_type": "code",
   "execution_count": 48,
   "id": "42f06c40",
   "metadata": {},
   "outputs": [
    {
     "data": {
      "text/plain": [
       "{'input': 'Как агент принимает решение, что делать?',\n",
       " 'context': [Document(id='c58b7b14-012b-4c43-863c-ae14d843391d', metadata={'source': 'code'}, page_content='Override this to take control of how the agent makes and acts on choices.\\n        \"\"\"\\n        try:\\n            intermediate_steps = self._prepare_intermediate_steps(intermediate_steps)\\n\\n            # Call the LLM to see what to do.\\n            output = await self._action_agent.aplan(\\n                intermediate_steps,\\n                callbacks=run_manager.get_child() if run_manager else None,\\n                **inputs,\\n            )\\n        except OutputParserException as e:'),\n",
       "  Document(id='382e7e90-008e-45b5-a01f-3655b2ae10d9', metadata={'source': 'code'}, page_content='callbacks: Callbacks = None,\\n        **kwargs: Any,\\n    ) -> Union[\\n        list[AgentAction],\\n        AgentFinish,\\n    ]:\\n        \"\"\"Based on past history and current inputs, decide what to do.\\n\\n        Args:\\n            intermediate_steps: Steps the LLM has taken to date,\\n                along with the observations.\\n            callbacks: Callbacks to run.\\n            **kwargs: User inputs.\\n\\n        Returns:\\n            Action specifying what tool to use.\\n        \"\"\"')],\n",
       " 'answer': 'Согласно документации (`agent_overview.md`), метод `decide` используется для того, чтобы агент мог принимать решения на основе прошлых действий и текущих входных данных. В методе `decide` происходит вызов функции `self._action_agent.aplan`, которая принимает на вход промежуточные шаги (`intermediate_steps`), вызываемые Callbacks (`callbacks`) и дополнительные пользовательские параметры (`**kwargs`).\\n\\nФункция `aplan` использует модель обработки языка (LLM), чтобы определить, какое действие следует предпринять. После этого функция возвращает либо список возможных действий, либо объект `AgentFinish`.\\n\\nИз предоставленного фрагмента кода видно, что в случае возникновения исключения типа `OutputParserException`, выполнение будет прервано, и выполнение может быть передано какому-либо другому обработчику.\\n\\nИсточник информации: документация (`agent_overview.md`) и код (метод `decide` внутри класса `ActionAgent`).\\n\\nВозможные противоречия: не удалось однозначно проверить, соответствует ли описание в документации текущей реализации кода. Будьте внимательны при использовании этих данных.'}"
      ]
     },
     "execution_count": 48,
     "metadata": {},
     "output_type": "execute_result"
    }
   ],
   "source": [
    "q1 = 'Как агент принимает решение, что делать?'\n",
    "\n",
    "resp1 = retrieval_chain.invoke(\n",
    "    {'input': q1}\n",
    ")\n",
    "\n",
    "resp1"
   ]
  },
  {
   "cell_type": "code",
   "execution_count": 49,
   "id": "3e701d3e",
   "metadata": {},
   "outputs": [
    {
     "data": {
      "text/plain": [
       "{'input': 'Какие векторные базы поддерживает LangChain?',\n",
       " 'context': [Document(id='d00dd8d5-9679-4075-a35d-b44246555166', metadata={'source': 'doc'}, page_content='# Architecture\\n\\nLangChain is a framework that consists of a number of packages.\\n\\n![Diagram outlining the hierarchical organization of the LangChain framework, displaying the interconnected parts across multiple layers.](/svg/langchain_stack_112024.svg \"LangChain Framework Overview\")\\n\\n## langchain-core[\\u200b](#langchain-core \"Direct link to langchain-core\")\\n\\nThis package contains base abstractions for different components and ways to compose them together.\\nThe interfaces for core components like chat models, vector stores, tools and more are defined here.\\nNo third-party integrations are defined here.\\nThe dependencies are very lightweight.\\n\\n## langchain[\\u200b](#langchain \"Direct link to langchain\")\\n\\nThe main `langchain` package contains chains and retrieval strategies that make up an application\\'s cognitive architecture.\\nThese are NOT third-party integrations.\\nAll chains, agents, and retrieval strategies here are NOT specific to any one integration, but rather generic across all integrations.'),\n",
       "  Document(id='62b8af6c-3539-4d0a-a5b4-e29112549b89', metadata={'source': 'doc'}, page_content='## Legacy agent concept: AgentExecutor[\\u200b](#legacy-agent-concept-agentexecutor \"Direct link to Legacy agent concept: AgentExecutor\")\\n\\nLangChain previously introduced the `AgentExecutor` as a runtime for agents.\\nWhile it served as an excellent starting point, its limitations became apparent when dealing with more sophisticated and customized agents.\\nAs a result, we\\'re gradually phasing out `AgentExecutor` in favor of more flexible solutions in LangGraph.\\n\\n### Transitioning from AgentExecutor to langgraph[\\u200b](#transitioning-from-agentexecutor-to-langgraph \"Direct link to Transitioning from AgentExecutor to langgraph\")\\n\\nIf you\\'re currently using `AgentExecutor`, don\\'t worry! We\\'ve prepared resources to help you:')],\n",
       " 'answer': '**Источник информации**:\\n\\n1. Документация по структуре проекта LangChain (`architecture.md`).\\n\\n**Утверждение**: \\n\\nLangChain состоит из нескольких пакетов, каждый из которых выполняет свою роль в архитектуре системы. Основные компоненты включают `langchain-core`, `langchain` и концепцию `AgentExecutor`. Пакет `langchain-core` содержит базовые абстракции для различных компонентов и способы их композиции вместе. В пакете `langchain` находятся цепочки и стратегии поиска, которые составляют основу приложения. Концепция `AgentExecutor` ранее использовалась как движок для выполнения агентов, но её ограниченные возможности привели к постепенной замене более гибкими решениями в LangGraph.\\n\\n**Использованные источники**:\\n\\n- Информация о структуре проекта и его компонентах взята из документации по архитектуре (`architecture.md`).\\n\\n**Возможные противоречия**:\\n\\nНет явных противоречий между документацией и кодом. Все аспекты архитектуры хорошо структурированы и документированы. Однако стоит отметить, что упоминание перехода от `AgentExecutor` к LangGraph может потребовать дополнительных разъяснений, так как конкретные шаги и детали этого перехода могут быть непонятны без дополнительной информации.\\n\\n**Заключение**:\\n\\nКаждый аспект архитектуры LangChain подробно описан в документации. Информация из кода совпадает с тем, что указано в документации. Возможности `AgentExecutor` действительно ограничены, и рекомендуется использовать LangGraph для создания более сложных и кастомизированных решений.'}"
      ]
     },
     "execution_count": 49,
     "metadata": {},
     "output_type": "execute_result"
    }
   ],
   "source": [
    "q1 = 'Какие векторные базы поддерживает LangChain?'\n",
    "\n",
    "resp1 = retrieval_chain.invoke(\n",
    "    {'input': q1}\n",
    ")\n",
    "\n",
    "resp1"
   ]
  },
  {
   "cell_type": "code",
   "execution_count": 50,
   "id": "4f5b380a",
   "metadata": {},
   "outputs": [
    {
     "data": {
      "text/plain": [
       "{'input': 'Что произойдет, если передать неизвестную цепочку в load_chain?',\n",
       " 'context': [Document(id='1623dd95-810b-44f2-aab1-4821b12535f5', metadata={'source': 'code'}, page_content='\"\"\"Chain that takes in an input and produces an action and action input.\"\"\"\\n\\nfrom __future__ import annotations\\n\\nimport asyncio\\nimport builtins\\nimport json\\nimport logging\\nimport time\\nfrom abc import abstractmethod\\nfrom collections.abc import AsyncIterator, Iterator, Sequence\\nfrom pathlib import Path\\nfrom typing import (\\n    Any,\\n    Callable,\\n    Optional,\\n    Union,\\n    cast,\\n)\\n\\nimport yaml\\nfrom langchain_core._api import deprecated'),\n",
       "  Document(id='d00dd8d5-9679-4075-a35d-b44246555166', metadata={'source': 'doc'}, page_content='# Architecture\\n\\nLangChain is a framework that consists of a number of packages.\\n\\n![Diagram outlining the hierarchical organization of the LangChain framework, displaying the interconnected parts across multiple layers.](/svg/langchain_stack_112024.svg \"LangChain Framework Overview\")\\n\\n## langchain-core[\\u200b](#langchain-core \"Direct link to langchain-core\")\\n\\nThis package contains base abstractions for different components and ways to compose them together.\\nThe interfaces for core components like chat models, vector stores, tools and more are defined here.\\nNo third-party integrations are defined here.\\nThe dependencies are very lightweight.\\n\\n## langchain[\\u200b](#langchain \"Direct link to langchain\")\\n\\nThe main `langchain` package contains chains and retrieval strategies that make up an application\\'s cognitive architecture.\\nThese are NOT third-party integrations.\\nAll chains, agents, and retrieval strategies here are NOT specific to any one integration, but rather generic across all integrations.')],\n",
       " 'answer': 'Согласно документации (`chains/load_chain.md`), цепочка (chain) в LangChain представляет собой объект, который принимает входной сигнал и производит действие и входные данные для следующего действия. Это абстрактная концепция, которая описывает поток обработки информации от начала до конца.\\n\\nОднако конкретной реализации этой концепции в коде я не нашел. В документации говорится о поддержке нескольких цепочек, но в предоставленном фрагменте кода описана только одна цепочка (`summarize_chain`).\\n\\nТаким образом, в текущей версии библиотеки LangChain данная концепция представлена только декларативно, а реализация отсутствует. Противоречие между документацией и кодом заключается в том, что описание функционала цепочки присутствует, но его реализация пока не завершена.'}"
      ]
     },
     "execution_count": 50,
     "metadata": {},
     "output_type": "execute_result"
    }
   ],
   "source": [
    "q1 = 'Что произойдет, если передать неизвестную цепочку в load_chain?'\n",
    "\n",
    "resp1 = retrieval_chain.invoke(\n",
    "    {'input': q1}\n",
    ")\n",
    "\n",
    "resp1"
   ]
  },
  {
   "cell_type": "code",
   "execution_count": 51,
   "id": "e61b9666",
   "metadata": {},
   "outputs": [
    {
     "data": {
      "text/plain": [
       "{'input': 'Как реализовать собственную цепочку?',\n",
       " 'context': [Document(id='d00dd8d5-9679-4075-a35d-b44246555166', metadata={'source': 'doc'}, page_content='# Architecture\\n\\nLangChain is a framework that consists of a number of packages.\\n\\n![Diagram outlining the hierarchical organization of the LangChain framework, displaying the interconnected parts across multiple layers.](/svg/langchain_stack_112024.svg \"LangChain Framework Overview\")\\n\\n## langchain-core[\\u200b](#langchain-core \"Direct link to langchain-core\")\\n\\nThis package contains base abstractions for different components and ways to compose them together.\\nThe interfaces for core components like chat models, vector stores, tools and more are defined here.\\nNo third-party integrations are defined here.\\nThe dependencies are very lightweight.\\n\\n## langchain[\\u200b](#langchain \"Direct link to langchain\")\\n\\nThe main `langchain` package contains chains and retrieval strategies that make up an application\\'s cognitive architecture.\\nThese are NOT third-party integrations.\\nAll chains, agents, and retrieval strategies here are NOT specific to any one integration, but rather generic across all integrations.'),\n",
       "  Document(id='1623dd95-810b-44f2-aab1-4821b12535f5', metadata={'source': 'code'}, page_content='\"\"\"Chain that takes in an input and produces an action and action input.\"\"\"\\n\\nfrom __future__ import annotations\\n\\nimport asyncio\\nimport builtins\\nimport json\\nimport logging\\nimport time\\nfrom abc import abstractmethod\\nfrom collections.abc import AsyncIterator, Iterator, Sequence\\nfrom pathlib import Path\\nfrom typing import (\\n    Any,\\n    Callable,\\n    Optional,\\n    Union,\\n    cast,\\n)\\n\\nimport yaml\\nfrom langchain_core._api import deprecated')],\n",
       " 'answer': 'Информация для этого ответа взята как из документации, так и из исходного кода.\\n\\n1. **Из документации** (`diagram.md`):\\n   - Описание структуры LangChain, где основной акцент сделан на многоуровневой организации пакетов.\\n   - Общее представление о пакетах `langchain-core` и `langchain`.\\n\\n2. **Из кода** (`langchain/_api.py`):\\n   - Определение `langchain` как основного пакета, содержащего цепочки (`chains`) и стратегии поиска (`retrieval_strategies`), которые являются основой приложения.\\n   - Указание на то, что эти компоненты универсальны и не привязаны к конкретным интеграциям третьих сторон.\\n\\nОба источника подтверждают организацию LangChain на уровне архитектуры и содержимого основных пакетов.'}"
      ]
     },
     "execution_count": 51,
     "metadata": {},
     "output_type": "execute_result"
    }
   ],
   "source": [
    "q1 = 'Как реализовать собственную цепочку?'\n",
    "\n",
    "resp1 = retrieval_chain.invoke(\n",
    "    {'input': q1}\n",
    ")\n",
    "\n",
    "resp1"
   ]
  },
  {
   "cell_type": "code",
   "execution_count": 52,
   "id": "02956cbe",
   "metadata": {},
   "outputs": [
    {
     "data": {
      "text/plain": [
       "{'input': 'Как использовать PromptTemplate?',\n",
       " 'context': [Document(id='07c35582-93ab-4941-b020-f41bcdf21f07', metadata={'source': 'code'}, page_content='\"\"\"Prefix to append the LLM call with.\"\"\"\\n\\n    @classmethod\\n    @abstractmethod\\n    def create_prompt(cls, tools: Sequence[BaseTool]) -> BasePromptTemplate:\\n        \"\"\"Create a prompt for this class.\\n\\n        Args:\\n            tools: Tools to use.\\n\\n        Returns:\\n            BasePromptTemplate: Prompt template.\\n        \"\"\"\\n\\n    @classmethod\\n    def _validate_tools(cls, tools: Sequence[BaseTool]) -> None:\\n        \"\"\"Validate that appropriate tools are passed in.\\n\\n        Args:'),\n",
       "  Document(id='8e2eb17f-9bce-420e-ab98-2b080d312f33', metadata={'source': 'code'}, page_content='elif isinstance(prompt, FewShotPromptTemplate):\\n                prompt.suffix += \"\\\\n{agent_scratchpad}\"\\n            else:\\n                raise ValueError(f\"Got unexpected prompt type {type(prompt)}\")\\n        return self\\n\\n    @property\\n    @abstractmethod\\n    def observation_prefix(self) -> str:\\n        \"\"\"Prefix to append the observation with.\"\"\"\\n\\n    @property\\n    @abstractmethod\\n    def llm_prefix(self) -> str:\\n        \"\"\"Prefix to append the LLM call with.\"\"\"\\n\\n    @classmethod')],\n",
       " 'answer': 'Согласно документации (`agent_overview.md`), `llm_prefix` — это строка, которая добавляется перед вызовом языковой модели (LLM). Однако в предоставленном коде не видно явной реализации этой строки. В классе `LangModel`, который наследует от `BaseLanguageModel`, атрибут `llm_prefix` не определен. Также нет никаких упоминаний о том, как этот префикс должен формироваться или использоваться. \\n\\nЭто может указывать на то, что либо метод создания этого префикса еще не реализован, либо он является абстрактным методом, который должен быть переопределен в подклассах. Поэтому невозможно точно сказать, какой конкретно префикс будет добавлен перед вызовом LLM без дополнительной информации или проверки реализации конкретных подклассов.'}"
      ]
     },
     "execution_count": 52,
     "metadata": {},
     "output_type": "execute_result"
    }
   ],
   "source": [
    "q1 = 'Как использовать PromptTemplate?'\n",
    "\n",
    "resp1 = retrieval_chain.invoke(\n",
    "    {'input': q1}\n",
    ")\n",
    "\n",
    "resp1"
   ]
  },
  {
   "cell_type": "code",
   "execution_count": 53,
   "id": "98ccd789",
   "metadata": {},
   "outputs": [
    {
     "data": {
      "text/plain": [
       "{'input': 'Приведи пример загрузки файлов из директории',\n",
       " 'context': [Document(id='e485cdf7-3193-45c7-843e-2093ac11aacd', metadata={'source': 'code'}, page_content='input,\\n            config.get(\"callbacks\"),\\n            tags=config.get(\"tags\"),\\n            metadata=config.get(\"metadata\"),\\n            run_name=config.get(\"run_name\"),\\n            run_id=config.get(\"run_id\"),\\n            yield_actions=True,\\n            **kwargs,\\n        )\\n        async for step in iterator:\\n            yield step'),\n",
       "  Document(id='477d1545-2068-4414-baaf-13b528c41e99', metadata={'source': 'doc'}, page_content='* **[Output parsers](/docs/concepts/output_parsers/)**: Responsible for taking the output of a model and transforming it into a more suitable format for downstream tasks. Output parsers were primarily useful prior to the general availability of [tool calling](/docs/concepts/tool_calling/) and [structured outputs](/docs/concepts/structured_outputs/).\\n* **[Few-shot prompting](/docs/concepts/few_shot_prompting/)**: A technique for improving model performance by providing a few examples of the task to perform in the prompt.\\n* **[Example selectors](/docs/concepts/example_selectors/)**: Used to select the most relevant examples from a dataset based on a given input. Example selectors are used in few-shot prompting to select examples for a prompt.\\n* **[Async programming](/docs/concepts/async/)**: The basics that one should know to use LangChain in an asynchronous context.')],\n",
       " 'answer': 'В предоставленном фрагменте кода используется метод `next()` для получения следующего шага из объекта `iterator`. Метод `yield_actions` позволяет возвращать действия вместе со следующим шагом. Далее происходит генерация данных и их передача через цикл `async for`, где каждый шаг обрабатывается.\\n\\nОднако в описании отсутствуют конкретные детали того, как эти элементы взаимодействуют с другими частями системы LangChain, такими как `OutputParsers`, `FewShotPrompting`, `ExampleSelectors` или концепцией `Async Programming`. В документации (например, в разделе `output_parsers`) упоминается, что `OutputParsers` использовались ранее для преобразования вывода модели, но сейчас они могут быть устаревшими. То же самое касается других концепций, таких как `FewShotPrompting` и `ExampleSelectors`.\\n\\nДля более детальной информации о том, как эти концепции интегрируются в работу LangChain, следует обратиться к официальной документации по ссылкам, приведенным выше.'}"
      ]
     },
     "execution_count": 53,
     "metadata": {},
     "output_type": "execute_result"
    }
   ],
   "source": [
    "q1 = 'Приведи пример загрузки файлов из директории'\n",
    "\n",
    "resp1 = retrieval_chain.invoke(\n",
    "    {'input': q1}\n",
    ")\n",
    "\n",
    "resp1"
   ]
  },
  {
   "cell_type": "code",
   "execution_count": 54,
   "id": "7b940704",
   "metadata": {},
   "outputs": [
    {
     "data": {
      "text/plain": [
       "{'input': 'Какие ошибки бывают в LangChain и когда они возникают?',\n",
       " 'context': [Document(id='d00dd8d5-9679-4075-a35d-b44246555166', metadata={'source': 'doc'}, page_content='# Architecture\\n\\nLangChain is a framework that consists of a number of packages.\\n\\n![Diagram outlining the hierarchical organization of the LangChain framework, displaying the interconnected parts across multiple layers.](/svg/langchain_stack_112024.svg \"LangChain Framework Overview\")\\n\\n## langchain-core[\\u200b](#langchain-core \"Direct link to langchain-core\")\\n\\nThis package contains base abstractions for different components and ways to compose them together.\\nThe interfaces for core components like chat models, vector stores, tools and more are defined here.\\nNo third-party integrations are defined here.\\nThe dependencies are very lightweight.\\n\\n## langchain[\\u200b](#langchain \"Direct link to langchain\")\\n\\nThe main `langchain` package contains chains and retrieval strategies that make up an application\\'s cognitive architecture.\\nThese are NOT third-party integrations.\\nAll chains, agents, and retrieval strategies here are NOT specific to any one integration, but rather generic across all integrations.'),\n",
       "  Document(id='a038d986-c87a-4f66-9b90-e328d61e08a7', metadata={'source': 'doc'}, page_content='# Conceptual guide\\n\\nThis guide provides explanations of the key concepts behind the LangChain framework and AI applications more broadly.\\n\\nWe recommend that you go through at least one of the [Tutorials](/docs/tutorials/) before diving into the conceptual guide. This will provide practical context that will make it easier to understand the concepts discussed here.\\n\\nThe conceptual guide does not cover step-by-step instructions or specific implementation examples — those are found in the [How-to guides](/docs/how_to/) and [Tutorials](/docs/tutorials/). For detailed reference material, please see the [API reference](https://python.langchain.com/api_reference/).\\n\\n## High level[\\u200b](#high-level \"Direct link to High level\")\\n\\n* **[Why LangChain?](/docs/concepts/why_langchain/)**: Overview of the value that LangChain provides.\\n* **[Architecture](/docs/concepts/architecture/)**: How packages are organized in the LangChain ecosystem.\\n\\n## Concepts[\\u200b](#concepts \"Direct link to Concepts\")')],\n",
       " 'answer': 'Согласно документации (`concepts/architecture.md`), библиотека LangChain состоит из нескольких пакетов. Главный пакет называется `langchain`, который содержит цепочки и стратегии поиска, составляющие основу когнитивной архитектуры приложения. Эти элементы являются общими для всех интеграций и не зависят от конкретных сторонних сервисов. В то же время, пакет `langchain-core` определяет базовые абстракции для различных компонентов и способы их объединения. Этот пакет имеет очень легкие зависимости и предназначен для определения интерфейсов основных компонентов, таких как модели чатов, хранилища векторов и инструменты. Никаких внешних интеграций здесь не определено.\\n\\nТаким образом, `langchain-core` отвечает за базовую структуру и интерфейсы, а `langchain` реализует конкретные компоненты, такие как цепочки и стратегии поиска, которые можно использовать в различных приложениях без привязки к определенной интеграции.'}"
      ]
     },
     "execution_count": 54,
     "metadata": {},
     "output_type": "execute_result"
    }
   ],
   "source": [
    "q1 = 'Какие ошибки бывают в LangChain и когда они возникают?'\n",
    "\n",
    "resp1 = retrieval_chain.invoke(\n",
    "    {'input': q1}\n",
    ")\n",
    "\n",
    "resp1"
   ]
  }
 ],
 "metadata": {
  "kernelspec": {
   "display_name": "Python 3",
   "language": "python",
   "name": "python3"
  },
  "language_info": {
   "codemirror_mode": {
    "name": "ipython",
    "version": 3
   },
   "file_extension": ".py",
   "mimetype": "text/x-python",
   "name": "python",
   "nbconvert_exporter": "python",
   "pygments_lexer": "ipython3",
   "version": "3.12.4"
  }
 },
 "nbformat": 4,
 "nbformat_minor": 5
}
