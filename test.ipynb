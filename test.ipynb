{
 "cells": [
  {
   "cell_type": "code",
   "execution_count": 76,
   "id": "989ddd47",
   "metadata": {},
   "outputs": [],
   "source": [
    "import os\n",
    "from abc import ABC, abstractmethod\n",
    "from typing import List, Dict, Any\n",
    "from langchain.docstore.document import Document\n",
    "from langchain.vectorstores import FAISS\n",
    "from langchain_gigachat.embeddings.gigachat import GigaChatEmbeddings\n",
    "\n",
    "from vectorisation import FAISSVectorStore, save_vector_store, load_vector_store"
   ]
  },
  {
   "cell_type": "code",
   "execution_count": 77,
   "id": "a7708c1b",
   "metadata": {},
   "outputs": [
    {
     "data": {
      "text/plain": [
       "True"
      ]
     },
     "execution_count": 77,
     "metadata": {},
     "output_type": "execute_result"
    }
   ],
   "source": [
    "from dotenv import load_dotenv\n",
    "load_dotenv()"
   ]
  },
  {
   "cell_type": "code",
   "execution_count": 78,
   "id": "76469dd7",
   "metadata": {},
   "outputs": [],
   "source": [
    "gigachat_credentials = os.getenv(\"GIGACHAT_CREDENTIALS\")\n",
    "gigachat_scope = os.getenv(\"GIGACHAT_SCOPE\")"
   ]
  },
  {
   "cell_type": "code",
   "execution_count": 79,
   "id": "e69437d0",
   "metadata": {},
   "outputs": [],
   "source": [
    "embedding=GigaChatEmbeddings(\n",
    "        credentials=gigachat_credentials,\n",
    "        scope=gigachat_scope,\n",
    "        verify_ssl_certs=False,\n",
    ")"
   ]
  },
  {
   "cell_type": "markdown",
   "id": "a676841b",
   "metadata": {},
   "source": [
    "Чанки (пример)"
   ]
  },
  {
   "cell_type": "code",
   "execution_count": 80,
   "id": "c0b53eeb",
   "metadata": {},
   "outputs": [],
   "source": [
    "documents = [\n",
    "        Document(\n",
    "            page_content=\"# Функция HelloWorld\\nОписание: Выполняет задачу HelloWorld.\\n\\n## Код\\n```python\\ndef HelloWorld():\\n    print(\\\"Задача HelloWorld выполнена\\\")\\n```\",\n",
    "            metadata={\"id\": \"function_X\", \"source\": \"function_X.md, function_X.py\"}\n",
    "        ),\n",
    "        Document(\n",
    "            page_content=\"# Функция Help\\nОписание: Выполняет задачу Help.\\n\\n## Код\\n```python\\ndef Help():\\n    print(\\\"Задача Help выполнена\\\")\\n```\",\n",
    "            metadata={\"id\": \"function_Y\", \"source\": \"function_Y.md, function_Y.py\"}\n",
    "        ),\n",
    "        Document(\n",
    "            page_content=\"# Функция Y\\nОписание: Выполняет задачу Y.\\n\\n## Код\\n```python\\ndef Y():\\n    print(\\\"Задача Y выполнена\\\")\\n```\",\n",
    "            metadata={\"id\": \"function_Y\", \"source\": \"function_Y.md, function_Y.py\"}\n",
    "        )\n",
    "    ]"
   ]
  },
  {
   "cell_type": "markdown",
   "id": "e1fe6e30",
   "metadata": {},
   "source": [
    "Создание векторной базы"
   ]
  },
  {
   "cell_type": "code",
   "execution_count": 81,
   "id": "a3263881",
   "metadata": {},
   "outputs": [],
   "source": [
    "vector_store = FAISSVectorStore(embedding, vector_store_path=\"vector_store\")\n",
    "vector_store.create_vector_store(documents)"
   ]
  },
  {
   "cell_type": "markdown",
   "id": "cc0126e4",
   "metadata": {},
   "source": [
    "Сохранение векторной базы"
   ]
  },
  {
   "cell_type": "code",
   "execution_count": 82,
   "id": "7bac6ee1",
   "metadata": {},
   "outputs": [],
   "source": [
    "save_vector_store(vector_store)"
   ]
  },
  {
   "cell_type": "markdown",
   "id": "21d1adc3",
   "metadata": {},
   "source": [
    "Загрузка данных"
   ]
  },
  {
   "cell_type": "code",
   "execution_count": 83,
   "id": "6cd4e064",
   "metadata": {},
   "outputs": [],
   "source": [
    "loaded_vector_store = load_vector_store(\"vector_store\", embedding)"
   ]
  },
  {
   "cell_type": "markdown",
   "id": "62bd4af7",
   "metadata": {},
   "source": [
    "Проверка"
   ]
  },
  {
   "cell_type": "code",
   "execution_count": 84,
   "id": "5aac6429",
   "metadata": {},
   "outputs": [
    {
     "name": "stdout",
     "output_type": "stream",
     "text": [
      "Найденный чанк: # Функция Help\n",
      "Описание: Выполняет задачу Help.\n",
      "\n",
      "## Код\n",
      "```python\n",
      "def Help():\n",
      "    print(\"Задача Help выполнена\")\n",
      "```\n",
      "Метаданные: {'id': 'function_Y', 'source': 'function_Y.md, function_Y.py'}\n",
      "\n",
      "Найденный чанк: # Функция HelloWorld\n",
      "Описание: Выполняет задачу HelloWorld.\n",
      "\n",
      "## Код\n",
      "```python\n",
      "def HelloWorld():\n",
      "    print(\"Задача HelloWorld выполнена\")\n",
      "```\n",
      "Метаданные: {'id': 'function_X', 'source': 'function_X.md, function_X.py'}\n",
      "\n"
     ]
    }
   ],
   "source": [
    "query = \"Задача Help\"\n",
    "results = loaded_vector_store.search(query, k=2)\n",
    "for result in results:\n",
    "    print(f\"Найденный чанк: {result.page_content}\\nМетаданные: {result.metadata}\\n\")"
   ]
  }
 ],
 "metadata": {
  "kernelspec": {
   "display_name": "Python 3",
   "language": "python",
   "name": "python3"
  },
  "language_info": {
   "codemirror_mode": {
    "name": "ipython",
    "version": 3
   },
   "file_extension": ".py",
   "mimetype": "text/x-python",
   "name": "python",
   "nbconvert_exporter": "python",
   "pygments_lexer": "ipython3",
   "version": "3.13.2"
  }
 },
 "nbformat": 4,
 "nbformat_minor": 5
}
